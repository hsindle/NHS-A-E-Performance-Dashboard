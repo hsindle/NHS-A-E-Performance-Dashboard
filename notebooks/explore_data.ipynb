{
 "cells": [
  {
   "cell_type": "code",
   "execution_count": null,
   "id": "9a4abd93",
   "metadata": {
    "vscode": {
     "languageId": "plaintext"
    }
   },
   "outputs": [],
   "source": [
    "import pandas as pd\n",
    "\n",
    "# Load the CSV (skip parse_dates for now)\n",
    "df = pd.read_csv(\"../data/combined_ae_data.csv\")\n",
    "\n",
    "# Clean column names\n",
    "df.columns = df.columns.str.strip().str.lower().str.replace(\" \", \"_\")\n",
    "\n",
    "# Rename 'period' to 'month' for clarity\n",
    "df = df.rename(columns={'period': 'month'})\n",
    "\n",
    "# Parse the date\n",
    "df['month'] = pd.to_datetime(df['month'], errors='coerce')\n",
    "\n",
    "# Drop unnamed columns\n",
    "df = df.loc[:, ~df.columns.str.contains(\"unnamed\")]\n",
    "\n",
    "df.head()\n"
   ]
  },
  {
   "cell_type": "code",
   "execution_count": null,
   "id": "06771f4d",
   "metadata": {
    "vscode": {
     "languageId": "plaintext"
    }
   },
   "outputs": [],
   "source": [
    "df.info()\n",
    "df.describe()\n",
    "df['trust_name'].nunique(), df['month'].nunique()\n"
   ]
  },
  {
   "cell_type": "code",
   "execution_count": null,
   "id": "6dba8799",
   "metadata": {
    "vscode": {
     "languageId": "plaintext"
    }
   },
   "outputs": [],
   "source": [
    "df.isnull().sum()\n"
   ]
  },
  {
   "cell_type": "code",
   "execution_count": null,
   "id": "15dbafe6",
   "metadata": {
    "vscode": {
     "languageId": "plaintext"
    }
   },
   "outputs": [],
   "source": [
    "monthly_totals = df.groupby(\"month\")[[\"total_attendances\", \"seen_within_4_hours\"]].sum()\n",
    "\n",
    "# Calculate % seen within 4 hours\n",
    "monthly_totals[\"pct_seen_4hr\"] = 100 * monthly_totals[\"seen_within_4_hours\"] / monthly_totals[\"total_attendances\"]\n",
    "\n",
    "monthly_totals.plot(y=[\"total_attendances\"], figsize=(12, 5), title=\"Monthly A&E Attendances\")\n",
    "plt.show()\n",
    "\n",
    "monthly_totals.plot(y=[\"pct_seen_4hr\"], figsize=(12, 5), title=\"% Seen Within 4 Hours\")\n",
    "plt.axhline(95, color='red', linestyle='--', label='Target (95%)')\n",
    "plt.legend()\n",
    "plt.show()\n"
   ]
  },
  {
   "cell_type": "code",
   "execution_count": null,
   "id": "5afb1490",
   "metadata": {
    "vscode": {
     "languageId": "plaintext"
    }
   },
   "outputs": [],
   "source": [
    "latest_month = df['month'].max()\n",
    "latest_df = df[df['month'] == latest_month].copy()\n",
    "\n",
    "latest_df[\"pct_seen_4hr\"] = 100 * latest_df[\"seen_within_4_hours\"] / latest_df[\"total_attendances\"]\n",
    "top10 = latest_df.sort_values(\"pct_seen_4hr\", ascending=False).head(10)\n",
    "bottom10 = latest_df.sort_values(\"pct_seen_4hr\", ascending=True).head(10)\n",
    "\n",
    "top10[[\"trust_name\", \"pct_seen_4hr\"]]\n",
    "bottom10[[\"trust_name\", \"pct_seen_4hr\"]]\n"
   ]
  }
 ],
 "metadata": {
  "language_info": {
   "name": "python"
  }
 },
 "nbformat": 4,
 "nbformat_minor": 5
}
